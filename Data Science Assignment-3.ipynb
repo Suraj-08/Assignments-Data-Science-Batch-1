{
 "cells": [
  {
   "cell_type": "markdown",
   "metadata": {},
   "source": [
    "# Question-1:"
   ]
  },
  {
   "cell_type": "code",
   "execution_count": 6,
   "metadata": {},
   "outputs": [
    {
     "name": "stdout",
     "output_type": "stream",
     "text": [
      "[ 2  5  8 11 14 17 20 23 26 29 32 35 38 41 44 47]\n"
     ]
    }
   ],
   "source": [
    "import numpy as np\n",
    "array = np.arange(start = 2, stop = 50, step = 3)\n",
    "print(array)"
   ]
  },
  {
   "cell_type": "markdown",
   "metadata": {},
   "source": [
    "# Question-2:"
   ]
  },
  {
   "cell_type": "code",
   "execution_count": 27,
   "metadata": {},
   "outputs": [
    {
     "name": "stdout",
     "output_type": "stream",
     "text": [
      "98 27 1 56 35\n",
      "12 42 63 71 82\n",
      "['1' '12' '27' '35' '42' '56' '63' '71' '82' '98']\n"
     ]
    }
   ],
   "source": [
    "import numpy as np\n",
    "firstList = input().split()\n",
    "secondList = input().split()\n",
    "listToarray1 = np.array(firstList)\n",
    "listToarray2 = np.array(secondList)\n",
    "sortedList = firstList + secondList\n",
    "k=np.sort(sortedList)\n",
    "print(k)"
   ]
  },
  {
   "cell_type": "markdown",
   "metadata": {},
   "source": [
    "# Question-3:"
   ]
  },
  {
   "cell_type": "code",
   "execution_count": 23,
   "metadata": {},
   "outputs": [
    {
     "name": "stdout",
     "output_type": "stream",
     "text": [
      "Value: [[0 1 2]\n",
      " [3 4 5]\n",
      " [6 7 8]]\n",
      "Dimension: 2\n",
      "Size: 9\n"
     ]
    }
   ],
   "source": [
    "import numpy as np\n",
    "Dimension = np.arange(9).reshape((3,3))\n",
    "\n",
    "print(\"Value:\",Dimension)\n",
    "print(\"Dimension:\",Dimension.ndim)\n",
    "print(\"Size:\",Dimension.size)"
   ]
  },
  {
   "cell_type": "markdown",
   "metadata": {},
   "source": [
    "# Question-4:"
   ]
  },
  {
   "cell_type": "code",
   "execution_count": 50,
   "metadata": {},
   "outputs": [
    {
     "name": "stdout",
     "output_type": "stream",
     "text": [
      "[[4 1 2]\n",
      " [6 8 9]]\n"
     ]
    }
   ],
   "source": [
    "import numpy as np\n",
    "arrayValue = np.array([4,1,2,6,8,9])\n",
    "converted2DArray = np.reshape(arrayValue,(-1,3))\n",
    "print(converted2DArray)"
   ]
  },
  {
   "cell_type": "markdown",
   "metadata": {},
   "source": [
    "# Question-5:"
   ]
  },
  {
   "cell_type": "code",
   "execution_count": 60,
   "metadata": {},
   "outputs": [
    {
     "name": "stdout",
     "output_type": "stream",
     "text": [
      "Vertical: [[ 1  4  9]\n",
      " [16 25 36]]\n",
      "Horizontal: [[ 1  4  9 16 25 36]]\n"
     ]
    }
   ],
   "source": [
    "array1 = np.array([[1,2,3]])\n",
    "array2 = np.array([[4,5,6]])\n",
    "squaredArray1 = np.square(array1)\n",
    "squaredArray2 = np.square(array2)\n",
    "verticalStack = np.vstack((squaredArray1,squaredArray2))\n",
    "horizontalStack = np.hstack((squaredArray1,squaredArray2))\n",
    "print(\"Vertical:\",verticalStack)\n",
    "print(\"Horizontal:\",horizontalStack)"
   ]
  },
  {
   "cell_type": "markdown",
   "metadata": {},
   "source": [
    "# Question-6:"
   ]
  },
  {
   "cell_type": "code",
   "execution_count": 66,
   "metadata": {},
   "outputs": [
    {
     "name": "stdout",
     "output_type": "stream",
     "text": [
      "{0, 1, 2, 3, 4, 6, 7, 8, 9, 20}\n",
      "Count: 10\n"
     ]
    }
   ],
   "source": [
    "items = [2,2,6,6,7,3,4,2,3,0,20,1,9,7,8,6]\n",
    "uniqueItems = set(items)\n",
    "print(uniqueItems)\n",
    "print(\"Count:\",len(uniqueItems))"
   ]
  }
 ],
 "metadata": {
  "kernelspec": {
   "display_name": "Python 3",
   "language": "python",
   "name": "python3"
  },
  "language_info": {
   "codemirror_mode": {
    "name": "ipython",
    "version": 3
   },
   "file_extension": ".py",
   "mimetype": "text/x-python",
   "name": "python",
   "nbconvert_exporter": "python",
   "pygments_lexer": "ipython3",
   "version": "3.7.4"
  }
 },
 "nbformat": 4,
 "nbformat_minor": 2
}
