{
 "cells": [
  {
   "cell_type": "markdown",
   "metadata": {},
   "source": [
    "# Question-1:"
   ]
  },
  {
   "cell_type": "code",
   "execution_count": 14,
   "metadata": {},
   "outputs": [
    {
     "name": "stdout",
     "output_type": "stream",
     "text": [
      "21\n",
      "36\n",
      "44\n",
      "158\n",
      "227\n",
      "234\n",
      "546\n",
      "243\n",
      "321\n",
      "444\n",
      "[36, 44, 158, 234, 546, 444]\n"
     ]
    }
   ],
   "source": [
    "List = []\n",
    "for i in range(10):\n",
    "    List.append(int(input()))\n",
    "print(list(filter(lambda num: (num % 2 == 0), List)))"
   ]
  },
  {
   "cell_type": "markdown",
   "metadata": {},
   "source": [
    "# Question-2:"
   ]
  },
  {
   "cell_type": "code",
   "execution_count": 15,
   "metadata": {},
   "outputs": [],
   "source": [
    "'''\n",
    "\n",
    "List comprehension: List comprhensions are defined as creating the new lists\n",
    "from iterables in existing lists, whcich enables to filter the list of items\n",
    "\n",
    "General syntax for list comprehension: expression for item in list\n",
    "\n",
    "'''"
   ]
  },
  {
   "cell_type": "code",
   "execution_count": 17,
   "metadata": {},
   "outputs": [
    {
     "name": "stdout",
     "output_type": "stream",
     "text": [
      "['L', 'e', 't', 's', '_', 'U', 'p', 'g', 'r', 'a', 'd', 'e']\n"
     ]
    }
   ],
   "source": [
    "# Example of list comprehension\n",
    "\n",
    "str = [letters for letters in 'Lets_Upgrade']\n",
    "print(str)"
   ]
  },
  {
   "cell_type": "markdown",
   "metadata": {},
   "source": [
    "# Question-3:"
   ]
  },
  {
   "cell_type": "code",
   "execution_count": 20,
   "metadata": {},
   "outputs": [
    {
     "name": "stdout",
     "output_type": "stream",
     "text": [
      "8\n",
      "{1: 1, 2: 4, 3: 9, 4: 16, 5: 25, 6: 36, 7: 49, 8: 64}\n"
     ]
    }
   ],
   "source": [
    "n= int(input())\n",
    "emptyDict = dict()\n",
    "\n",
    "for i in range(1,n+1):\n",
    "    emptyDict[i]=i*i\n",
    "print(emptyDict)"
   ]
  },
  {
   "cell_type": "markdown",
   "metadata": {},
   "source": [
    "# Question-4:"
   ]
  },
  {
   "cell_type": "code",
   "execution_count": 6,
   "metadata": {},
   "outputs": [
    {
     "name": "stdout",
     "output_type": "stream",
     "text": [
      "4\n",
      "UP 5\n",
      "DOWN 3\n",
      "LEFT 3\n",
      "RIGHT 2\n",
      "2\n"
     ]
    }
   ],
   "source": [
    "OrgPosition = {\"x\":0,\"y\":0}\n",
    "numtimes = int(input())\n",
    "\n",
    "for i in range (numtimes):\n",
    "    Input =  input().split(\" \")      \n",
    "    if Input[0] == \"UP\":             \n",
    "        OrgPosition[\"y\"] += int(Input[1])    \n",
    "    elif Input[0] == \"DOWN\":\n",
    "        OrgPosition[\"y\"] -= int(Input[1])\n",
    "    elif Input[0] == \"LEFT\":\n",
    "        OrgPosition[\"x\"] -= int(Input[1])\n",
    "    elif Input[0] == \"RIGHT\":\n",
    "        OrgPosition[\"x\"] += int(Input[1])\n",
    "    else:\n",
    "        prin(\"Error\")\n",
    "\n",
    "result = round((OrgPosition[\"x\"]**2 + OrgPosition[\"y\"]**2)**0.5)\n",
    "print(int(result))"
   ]
  },
  {
   "cell_type": "code",
   "execution_count": null,
   "metadata": {},
   "outputs": [],
   "source": []
  },
  {
   "cell_type": "code",
   "execution_count": null,
   "metadata": {},
   "outputs": [],
   "source": []
  },
  {
   "cell_type": "code",
   "execution_count": null,
   "metadata": {},
   "outputs": [],
   "source": []
  },
  {
   "cell_type": "code",
   "execution_count": null,
   "metadata": {},
   "outputs": [],
   "source": []
  }
 ],
 "metadata": {
  "kernelspec": {
   "display_name": "Python 3",
   "language": "python",
   "name": "python3"
  },
  "language_info": {
   "codemirror_mode": {
    "name": "ipython",
    "version": 3
   },
   "file_extension": ".py",
   "mimetype": "text/x-python",
   "name": "python",
   "nbconvert_exporter": "python",
   "pygments_lexer": "ipython3",
   "version": "3.7.4"
  }
 },
 "nbformat": 4,
 "nbformat_minor": 2
}
